{
 "cells": [
  {
   "cell_type": "code",
   "execution_count": 83,
   "metadata": {},
   "outputs": [],
   "source": [
    "import pandas as pd\n",
    "\n",
    "df = pd.read_csv('../data/1825.csv')"
   ]
  },
  {
   "cell_type": "code",
   "execution_count": 84,
   "metadata": {},
   "outputs": [],
   "source": [
    "df = df[['Hauptkategorie', 'Subkategorie_1', 'Subkategorie_2', 'Ist 2018',\n",
    "        'Soll 2019', 'Soll 2020', 'Ist 2021', 'Ist 2022', 'Ist 2023',\n",
    "        'Soll 2024', 'Soll 2025', 'Plan 2026', 'Plan 2027', 'Plan 2028',\n",
    "        'Produktgruppe', 'Subprodukt']]\n",
    "\n",
    "for col in ['Ist 2018','Soll 2019', 'Soll 2020', 'Ist 2021', 'Ist 2022', 'Ist 2023', 'Soll 2024', 'Soll 2025', 'Plan 2026', 'Plan 2027', 'Plan 2028']:\n",
    "    df[col] = df[col].astype(str).str.replace(',', '.').astype(float).astype('float64')\n"
   ]
  },
  {
   "cell_type": "code",
   "execution_count": null,
   "metadata": {},
   "outputs": [],
   "source": []
  },
  {
   "cell_type": "code",
   "execution_count": 85,
   "metadata": {},
   "outputs": [],
   "source": [
    "df['Ist 2023 %'] = ((df['Ist 2023'] - df['Ist 2018']) / \n",
    "                                            df['Ist 2018'].replace(0, pd.NA)) * 100\n",
    "\n",
    "# Fill NaN values with 0 or appropriate value\n",
    "df['Ist 2023 %'] = df['Ist 2023 %'].fillna(0)\n",
    "\n",
    "# Round the percentage change to 1 decimal place\n",
    "df['Percentagechange Ist 2018 vs. Ist 2023'] = df['Ist 2023 %'].round(1)\n",
    "\n",
    "df['Ist 2018 %'] = 0\n",
    "df.to_csv('../data/1825.csv')"
   ]
  }
 ],
 "metadata": {
  "kernelspec": {
   "display_name": "Python 3.8.13 ('crawler_env')",
   "language": "python",
   "name": "python3"
  },
  "language_info": {
   "codemirror_mode": {
    "name": "ipython",
    "version": 3
   },
   "file_extension": ".py",
   "mimetype": "text/x-python",
   "name": "python",
   "nbconvert_exporter": "python",
   "pygments_lexer": "ipython3",
   "version": "3.8.13"
  },
  "orig_nbformat": 4,
  "vscode": {
   "interpreter": {
    "hash": "18ab709851744743d64b0caa152d2de26d1dcfdda315e892bd0e7f9f32581c19"
   }
  }
 },
 "nbformat": 4,
 "nbformat_minor": 2
}
