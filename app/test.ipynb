{
 "cells": [
  {
   "cell_type": "code",
   "execution_count": 14,
   "metadata": {},
   "outputs": [],
   "source": [
    "import pandas as pd\n",
    "\n",
    "df = pd.read_csv('../data/1826.csv')"
   ]
  },
  {
   "cell_type": "code",
   "execution_count": 17,
   "metadata": {},
   "outputs": [],
   "source": [
    "df = df[['Hauptkategorie', 'Subkategorie_1', 'Subkategorie_2', 'Ist 2018',\n",
    "        'Soll 2019', 'Soll 2020', 'Ist 2021', 'Ist 2022', 'Ist 2023',\n",
    "        'Ist 2024', 'Soll 2025', 'Plan 2026', 'Plan 2027', 'Plan 2028',\n",
    "        'Produktgruppe', 'Subprodukt']]\n",
    "\n",
    "num_cols = ['Ist 2018','Soll 2019', 'Soll 2020', 'Ist 2021', 'Ist 2022', 'Ist 2023', 'Ist 2024', 'Soll 2025', 'Plan 2026', 'Plan 2027', 'Plan 2028']\n",
    "\n",
    "for col in num_cols:\n",
    "    df[col] = (\n",
    "        df[col]\n",
    "        .astype(str)                       # ensure string\n",
    "        .str.replace(',', '.', regex=False) # fix decimal commas\n",
    "        .str.replace(r'\\s.*', '', regex=True)  # remove everything after first space\n",
    "        .str.extract(r'([-+]?\\d*\\.?\\d+)', expand=False)  # extract numeric part safely\n",
    "        .astype(float)                     # convert to float\n",
    "    )\n",
    "    \n"
   ]
  },
  {
   "cell_type": "code",
   "execution_count": 18,
   "metadata": {},
   "outputs": [],
   "source": [
    "df['Ist 2024 %'] = ((df['Ist 2024'] - df['Ist 2018']) / \n",
    "                                            df['Ist 2018'].replace(0, pd.NA)) * 100\n",
    "\n",
    "# Fill NaN values with 0 or appropriate value\n",
    "df['Ist 2024 %'] = df['Ist 2024 %'].fillna(0)\n",
    "\n",
    "# Round the percentage change to 1 decimal place\n",
    "df['Percentagechange Ist 2018 vs. Ist 2024'] = df['Ist 2024 %'].round(1)\n",
    "\n",
    "df['Ist 2018 %'] = 0\n",
    "df.to_csv('../data/1826.csv')"
   ]
  }
 ],
 "metadata": {
  "kernelspec": {
   "display_name": "crawler_env",
   "language": "python",
   "name": "python3"
  },
  "language_info": {
   "codemirror_mode": {
    "name": "ipython",
    "version": 3
   },
   "file_extension": ".py",
   "mimetype": "text/x-python",
   "name": "python",
   "nbconvert_exporter": "python",
   "pygments_lexer": "ipython3",
   "version": "3.8.13"
  },
  "orig_nbformat": 4
 },
 "nbformat": 4,
 "nbformat_minor": 2
}
